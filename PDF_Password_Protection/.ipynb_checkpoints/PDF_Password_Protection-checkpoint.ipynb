{
 "cells": [
  {
   "cell_type": "code",
   "execution_count": 4,
   "id": "6981e08b-7cb3-4acf-a24e-5af1c168a32c",
   "metadata": {},
   "outputs": [
    {
     "name": "stdout",
     "output_type": "stream",
     "text": [
      "Requirement already satisfied: PyPDF2 in c:\\users\\admin\\appdata\\local\\programs\\python\\python311\\lib\\site-packages (3.0.1)\n"
     ]
    },
    {
     "name": "stderr",
     "output_type": "stream",
     "text": [
      "\n",
      "[notice] A new release of pip is available: 23.1.2 -> 24.0\n",
      "[notice] To update, run: python.exe -m pip install --upgrade pip\n"
     ]
    }
   ],
   "source": [
    "!pip install PyPDF2"
   ]
  },
  {
   "cell_type": "code",
   "execution_count": 5,
   "id": "cdb6accb-3f12-432a-b4d8-d79e8ac2b2f5",
   "metadata": {},
   "outputs": [],
   "source": [
    "from PyPDF2 import PdfReader,PdfWriter"
   ]
  },
  {
   "cell_type": "code",
   "execution_count": 6,
   "id": "b721e267-a787-4a3a-ad41-e87adfab9324",
   "metadata": {},
   "outputs": [],
   "source": [
    "def encrypt_pdf(input_file, output_file, password):\n",
    "\n",
    "    try:\n",
    "\n",
    "        # Open the input pdf file\n",
    "        file_pdf = PdfReader(input_file)\n",
    "\n",
    "        # Object for pdf writer\n",
    "        out_pdf = PdfWriter()\n",
    "\n",
    "        # Copy the pages from input pdf to output pdf\n",
    "        for page in file_pdf.pages:\n",
    "            out_pdf.add_page(page)\n",
    "\n",
    "        # Encrypt the output pdf with provided password\n",
    "        out_pdf.encrypt(password)\n",
    "\n",
    "        # Write the encrypted pdf to the output file\n",
    "        with open(output_file, \"wb\") as filename:\n",
    "            out_pdf.write(filename)\n",
    "\n",
    "        print(\"PDF encrypted successfully\")\n",
    "\n",
    "    except Exception as e:\n",
    "        print(\"Error: {}\".format(e));"
   ]
  },
  {
   "cell_type": "code",
   "execution_count": 7,
   "id": "cbba119b-2eaf-4770-a93b-4cd63718698c",
   "metadata": {},
   "outputs": [
    {
     "name": "stdin",
     "output_type": "stream",
     "text": [
      "Enter the input pdf name:  sample.pdf\n",
      "Enter the output pdf name:  Encrypted_Sample.pdf\n",
      "Enter the password for Encryption:  123456\n"
     ]
    },
    {
     "name": "stdout",
     "output_type": "stream",
     "text": [
      "PDF encrypted successfully\n"
     ]
    }
   ],
   "source": [
    "if __name__ == \"__main__\":\n",
    "    input_file = input(\"Enter the input pdf name: \")\n",
    "    output_file = input(\"Enter the output pdf name: \")\n",
    "    password = input(\"Enter the password for Encryption: \")\n",
    "\n",
    "    encrypt_pdf(input_file, output_file, password)"
   ]
  },
  {
   "cell_type": "code",
   "execution_count": null,
   "id": "e8053358-74ef-4be8-88ce-3c2ce623e3f4",
   "metadata": {},
   "outputs": [],
   "source": []
  }
 ],
 "metadata": {
  "kernelspec": {
   "display_name": "Python 3 (ipykernel)",
   "language": "python",
   "name": "python3"
  },
  "language_info": {
   "codemirror_mode": {
    "name": "ipython",
    "version": 3
   },
   "file_extension": ".py",
   "mimetype": "text/x-python",
   "name": "python",
   "nbconvert_exporter": "python",
   "pygments_lexer": "ipython3",
   "version": "3.11.4"
  }
 },
 "nbformat": 4,
 "nbformat_minor": 5
}
