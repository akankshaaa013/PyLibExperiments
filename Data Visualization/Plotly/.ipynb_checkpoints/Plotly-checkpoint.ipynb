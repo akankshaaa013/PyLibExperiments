{
 "cells": [
  {
   "cell_type": "markdown",
   "id": "92a4cf2e-53e4-4a1e-b0dc-17fc3dd32065",
   "metadata": {},
   "source": [
    "## Table of Content\n",
    "\n",
    "<div style=\"margin-top: 20px\">\n",
    "\n",
    "1. [Import Libraries](#import)\n",
    "2. [Scatter Plot](#scatter)\n",
    "3. [Line Chart](#line)\n",
    "4. [Bar Chart](#bar)\n",
    "5. [Histogram](#histogram)\n",
    "6. [Bubble Plot](#bubble)\n",
    "7. [Pie Chart](#pie)\n",
    "8. [Sunburst plot](#sunburst)\n",
    "\n",
    "</div>"
   ]
  },
  {
   "cell_type": "markdown",
   "id": "4f40f998-4854-4b14-abb2-8b04cf964feb",
   "metadata": {},
   "source": [
    "## Import Libraries <a id=\"import\"></a>"
   ]
  },
  {
   "cell_type": "code",
   "execution_count": 1,
   "id": "abc319f1-5fe3-4925-a40a-88099f10f108",
   "metadata": {},
   "outputs": [],
   "source": [
    "import plotly.io as pio\n",
    "pio.renderers.default = 'iframe'"
   ]
  },
  {
   "cell_type": "code",
   "execution_count": 2,
   "id": "e446d34d-1fbe-4a7c-bbe2-1287f597f8e7",
   "metadata": {},
   "outputs": [],
   "source": [
    "import pandas as pd\n",
    "import numpy as np\n",
    "\n",
    "import plotly.express as px\n",
    "import plotly.graph_objects as go\n",
    "\n",
    "import warnings\n",
    "warnings.filterwarnings('ignore')"
   ]
  },
  {
   "cell_type": "markdown",
   "id": "a9f5f17d-fc9e-4f89-a97d-c29bed661201",
   "metadata": {},
   "source": [
    "## Scatter Plot <a id=\"scatter\"></a>"
   ]
  },
  {
   "cell_type": "code",
   "execution_count": 3,
   "id": "7381cf60-e502-44e1-bbcf-4914e7810b00",
   "metadata": {},
   "outputs": [],
   "source": [
    "age = np.random.randint(25, 55, 60)\n",
    "sal = np.random.randint(300000, 700000, 3000000)"
   ]
  },
  {
   "cell_type": "code",
   "execution_count": 4,
   "id": "0c896450-e46e-4c75-ae1e-aa57d4357bee",
   "metadata": {},
   "outputs": [
    {
     "data": {
      "text/html": [
       "<iframe\n",
       "    scrolling=\"no\"\n",
       "    width=\"100%\"\n",
       "    height=\"545px\"\n",
       "    src=\"iframe_figures/figure_4.html\"\n",
       "    frameborder=\"0\"\n",
       "    allowfullscreen\n",
       "></iframe>\n"
      ]
     },
     "metadata": {},
     "output_type": "display_data"
    }
   ],
   "source": [
    "fig = go.Figure()\n",
    "fig.add_trace(go.Scatter(x=age, \n",
    "                         y=sal, \n",
    "                         mode='markers', \n",
    "                         marker=dict(color='maroon')))\n",
    "fig.show()"
   ]
  },
  {
   "cell_type": "code",
   "execution_count": 5,
   "id": "4873f864-bc4d-4e32-a294-7d4d93be4b6f",
   "metadata": {},
   "outputs": [
    {
     "data": {
      "text/html": [
       "<iframe\n",
       "    scrolling=\"no\"\n",
       "    width=\"100%\"\n",
       "    height=\"545px\"\n",
       "    src=\"iframe_figures/figure_5.html\"\n",
       "    frameborder=\"0\"\n",
       "    allowfullscreen\n",
       "></iframe>\n"
      ]
     },
     "metadata": {},
     "output_type": "display_data"
    }
   ],
   "source": [
    "fig.update_layout(title = \"Economic Survey\", xaxis_title = \"Age\", yaxis_title = \"Income\")"
   ]
  },
  {
   "cell_type": "markdown",
   "id": "4a102557-3024-4655-a6bb-0ae7f0937c71",
   "metadata": {},
   "source": [
    "## Line Chart <a id=\"line\"></a>"
   ]
  },
  {
   "cell_type": "code",
   "execution_count": 6,
   "id": "ce311ee1-9935-495d-bb90-8cda4e980833",
   "metadata": {},
   "outputs": [],
   "source": [
    "##Example 2: Let us illustrate the sales of bicycles from Jan to August last year using a line chart\n",
    "# Define an array containing numberofbicyclessold  \n",
    "numberofbicyclessold_array=[50,100,40,150,160,70,60,45]\n",
    "# Define an array containing months\n",
    "months_array=[\"Jan\",\"Feb\",\"Mar\",\"April\",\"May\",\"June\",\"July\",\"August\"]"
   ]
  },
  {
   "cell_type": "code",
   "execution_count": 7,
   "id": "2f71cd37-3cd0-4c65-9f92-d05508855299",
   "metadata": {},
   "outputs": [
    {
     "data": {
      "text/html": [
       "<iframe\n",
       "    scrolling=\"no\"\n",
       "    width=\"100%\"\n",
       "    height=\"545px\"\n",
       "    src=\"iframe_figures/figure_7.html\"\n",
       "    frameborder=\"0\"\n",
       "    allowfullscreen\n",
       "></iframe>\n"
      ]
     },
     "metadata": {},
     "output_type": "display_data"
    }
   ],
   "source": [
    "fig = go.Figure()\n",
    "fig.add_trace(go.Scatter(x=months_array, \n",
    "                         y = numberofbicyclessold_array, \n",
    "                         mode='lines', \n",
    "                         marker=dict(color='green')))\n",
    "\n",
    "fig.update_layout(title = 'Bicycle Sales', \n",
    "                  xaxis_title=\"Month\", \n",
    "                  yaxis_title=\"No. of Bicycles Sold\")"
   ]
  },
  {
   "cell_type": "markdown",
   "id": "b2124c44-c846-4649-924a-7c4483df0563",
   "metadata": {},
   "source": [
    "## Bar Chart <a id=\"bar\"></a>"
   ]
  },
  {
   "cell_type": "code",
   "execution_count": 8,
   "id": "60a383d2-4f0f-4a82-b9f3-6c2745248079",
   "metadata": {},
   "outputs": [],
   "source": [
    "# Define an array containing scores of students \n",
    "score=[80,90,56,88,95]\n",
    "# Define an array containing Grade names  \n",
    "grade=['Grade 6','Grade 7','Grade 8','Grade 9','Grade 10']"
   ]
  },
  {
   "cell_type": "code",
   "execution_count": 9,
   "id": "fa2c9a75-2980-4dee-98ba-eae26873cada",
   "metadata": {},
   "outputs": [
    {
     "data": {
      "text/html": [
       "<iframe\n",
       "    scrolling=\"no\"\n",
       "    width=\"100%\"\n",
       "    height=\"545px\"\n",
       "    src=\"iframe_figures/figure_9.html\"\n",
       "    frameborder=\"0\"\n",
       "    allowfullscreen\n",
       "></iframe>\n"
      ]
     },
     "metadata": {},
     "output_type": "display_data"
    }
   ],
   "source": [
    "fig = px.bar(x = grade,\n",
    "             y = score,\n",
    "             title=\"Pass Percentage\")\n",
    "\n",
    "fig.show()"
   ]
  },
  {
   "cell_type": "markdown",
   "id": "35d52d57-d0f1-4dcd-a3cf-945cdddf40aa",
   "metadata": {},
   "source": [
    "## Histogram <a id=\"histogram\"></a>"
   ]
  },
  {
   "cell_type": "code",
   "execution_count": 10,
   "id": "abc6d828-ace1-47bc-932f-438f1283a257",
   "metadata": {},
   "outputs": [],
   "source": [
    "x = np.random.normal(0,1,10000)"
   ]
  },
  {
   "cell_type": "code",
   "execution_count": 11,
   "id": "6dc343c7-8c1a-4757-9392-b7949768931f",
   "metadata": {},
   "outputs": [
    {
     "data": {
      "text/html": [
       "<iframe\n",
       "    scrolling=\"no\"\n",
       "    width=\"100%\"\n",
       "    height=\"545px\"\n",
       "    src=\"iframe_figures/figure_11.html\"\n",
       "    frameborder=\"0\"\n",
       "    allowfullscreen\n",
       "></iframe>\n"
      ]
     },
     "metadata": {},
     "output_type": "display_data"
    }
   ],
   "source": [
    "fig = px.histogram(x = x, title=\"Normal Distribution\")\n",
    "fig.show()"
   ]
  },
  {
   "cell_type": "markdown",
   "id": "dc3ca945-8b07-46c0-b05e-192f6625f45f",
   "metadata": {},
   "source": [
    "## Bubble Plot <a id=\"bubble\"></a>"
   ]
  },
  {
   "cell_type": "code",
   "execution_count": 12,
   "id": "162e4e5f-000d-40b2-92c2-26f0c80b16de",
   "metadata": {},
   "outputs": [
    {
     "data": {
      "text/html": [
       "<div>\n",
       "<style scoped>\n",
       "    .dataframe tbody tr th:only-of-type {\n",
       "        vertical-align: middle;\n",
       "    }\n",
       "\n",
       "    .dataframe tbody tr th {\n",
       "        vertical-align: top;\n",
       "    }\n",
       "\n",
       "    .dataframe thead th {\n",
       "        text-align: right;\n",
       "    }\n",
       "</style>\n",
       "<table border=\"1\" class=\"dataframe\">\n",
       "  <thead>\n",
       "    <tr style=\"text-align: right;\">\n",
       "      <th></th>\n",
       "      <th>City</th>\n",
       "      <th>Numberofcrimes</th>\n",
       "      <th>Year</th>\n",
       "    </tr>\n",
       "  </thead>\n",
       "  <tbody>\n",
       "    <tr>\n",
       "      <th>0</th>\n",
       "      <td>Chicago</td>\n",
       "      <td>1000</td>\n",
       "      <td>2007</td>\n",
       "    </tr>\n",
       "    <tr>\n",
       "      <th>1</th>\n",
       "      <td>Chicago</td>\n",
       "      <td>1200</td>\n",
       "      <td>2008</td>\n",
       "    </tr>\n",
       "    <tr>\n",
       "      <th>2</th>\n",
       "      <td>Austin</td>\n",
       "      <td>400</td>\n",
       "      <td>2007</td>\n",
       "    </tr>\n",
       "    <tr>\n",
       "      <th>3</th>\n",
       "      <td>Austin</td>\n",
       "      <td>700</td>\n",
       "      <td>2008</td>\n",
       "    </tr>\n",
       "    <tr>\n",
       "      <th>4</th>\n",
       "      <td>Seattle</td>\n",
       "      <td>350</td>\n",
       "      <td>2007</td>\n",
       "    </tr>\n",
       "    <tr>\n",
       "      <th>5</th>\n",
       "      <td>Seattle</td>\n",
       "      <td>1500</td>\n",
       "      <td>2008</td>\n",
       "    </tr>\n",
       "  </tbody>\n",
       "</table>\n",
       "</div>"
      ],
      "text/plain": [
       "      City  Numberofcrimes  Year\n",
       "0  Chicago            1000  2007\n",
       "1  Chicago            1200  2008\n",
       "2   Austin             400  2007\n",
       "3   Austin             700  2008\n",
       "4  Seattle             350  2007\n",
       "5  Seattle            1500  2008"
      ]
     },
     "execution_count": 12,
     "metadata": {},
     "output_type": "execute_result"
    }
   ],
   "source": [
    "crime_details = {\n",
    "    'City' : ['Chicago', 'Chicago', 'Austin', 'Austin','Seattle','Seattle'],\n",
    "    'Numberofcrimes' : [1000, 1200, 400, 700,350,1500],\n",
    "    'Year' : ['2007', '2008', '2007', '2008','2007','2008'],\n",
    "}\n",
    "  \n",
    "# create a Dataframe object with the dictionary\n",
    "df = pd.DataFrame(crime_details)\n",
    "  \n",
    "df"
   ]
  },
  {
   "cell_type": "code",
   "execution_count": 13,
   "id": "e262dc2e-bf2a-4926-abf9-571f076b478f",
   "metadata": {},
   "outputs": [],
   "source": [
    "df = df.groupby(\"City\")['Numberofcrimes'].sum().reset_index()"
   ]
  },
  {
   "cell_type": "code",
   "execution_count": 14,
   "id": "cb77f8f2-f8ba-433b-bd21-89ff7e78f725",
   "metadata": {},
   "outputs": [
    {
     "data": {
      "text/html": [
       "<iframe\n",
       "    scrolling=\"no\"\n",
       "    width=\"100%\"\n",
       "    height=\"545px\"\n",
       "    src=\"iframe_figures/figure_14.html\"\n",
       "    frameborder=\"0\"\n",
       "    allowfullscreen\n",
       "></iframe>\n"
      ]
     },
     "metadata": {},
     "output_type": "display_data"
    }
   ],
   "source": [
    "fig = px.scatter(df, \n",
    "                 x = 'City',\n",
    "                 y = 'Numberofcrimes',\n",
    "                 size = 'Numberofcrimes',\n",
    "                 size_max = 80,\n",
    "                 hover_name = \"City\",\n",
    "                 title = \"Crime Statistics\"\n",
    "                 )\n",
    "\n",
    "fig.show()"
   ]
  },
  {
   "cell_type": "markdown",
   "id": "34931867-8cca-43ac-ae84-b45dbd4387b9",
   "metadata": {},
   "source": [
    "## Pie Chart <a id=\"pie\"></a>"
   ]
  },
  {
   "cell_type": "code",
   "execution_count": 15,
   "id": "44fe3d76-aae6-4e8b-848e-191d4fbbe29d",
   "metadata": {},
   "outputs": [],
   "source": [
    "exp_percent= [20, 50, 10,8,12]\n",
    "house_holdcategories = ['Grocery', 'Rent', 'School Fees','Transport','Savings']"
   ]
  },
  {
   "cell_type": "code",
   "execution_count": 16,
   "id": "3f5d715f-eac1-469f-b342-1786b64cf809",
   "metadata": {},
   "outputs": [
    {
     "data": {
      "text/html": [
       "<iframe\n",
       "    scrolling=\"no\"\n",
       "    width=\"100%\"\n",
       "    height=\"545px\"\n",
       "    src=\"iframe_figures/figure_16.html\"\n",
       "    frameborder=\"0\"\n",
       "    allowfullscreen\n",
       "></iframe>\n"
      ]
     },
     "metadata": {},
     "output_type": "display_data"
    }
   ],
   "source": [
    "fig = px.pie(values = exp_percent,\n",
    "             names = house_holdcategories,\n",
    "             title = \"Household Expenditure\")\n",
    "\n",
    "fig.show()"
   ]
  },
  {
   "cell_type": "markdown",
   "id": "430e1f36-022c-420c-bc16-cbc32c1740fa",
   "metadata": {},
   "source": [
    "## Sunburst Plot <a id=\"sunburst\"></a>"
   ]
  },
  {
   "cell_type": "code",
   "execution_count": 17,
   "id": "0c2ba9a9-b8fe-44cb-a7d6-ca7d4f5746fd",
   "metadata": {},
   "outputs": [
    {
     "data": {
      "text/html": [
       "<iframe\n",
       "    scrolling=\"no\"\n",
       "    width=\"100%\"\n",
       "    height=\"545px\"\n",
       "    src=\"iframe_figures/figure_17.html\"\n",
       "    frameborder=\"0\"\n",
       "    allowfullscreen\n",
       "></iframe>\n"
      ]
     },
     "metadata": {},
     "output_type": "display_data"
    }
   ],
   "source": [
    "data = dict(\n",
    "    character = [\"Eve\", \"Cain\", \"Seth\", \"Enos\", \"Noam\", \"Abel\", \"Awan\", \"Enoch\", \"Azura\"],\n",
    "    parent = [\"\", \"Eve\", \"Eve\", \"Seth\", \"Seth\", \"Eve\", \"Eve\", \"Awan\", \"Eve\"],\n",
    "    value = [10, 14, 12, 10, 2, 6, 6, 4, 4]\n",
    ")\n",
    "\n",
    "fig = px.sunburst(\n",
    "    data,\n",
    "    names = 'character',\n",
    "    parents = 'parent',\n",
    "    values = 'value',\n",
    "    title = 'Family Chart'\n",
    ")\n",
    "\n",
    "fig.show()"
   ]
  },
  {
   "cell_type": "markdown",
   "id": "98bd87fb-1576-444f-9fac-02714c5ff9c3",
   "metadata": {},
   "source": [
    "## Thankyou :)"
   ]
  },
  {
   "cell_type": "code",
   "execution_count": null,
   "id": "adb3ff0e-3048-4bb1-a4bf-babec24b93e1",
   "metadata": {},
   "outputs": [],
   "source": []
  }
 ],
 "metadata": {
  "kernelspec": {
   "display_name": "Python 3 (ipykernel)",
   "language": "python",
   "name": "python3"
  },
  "language_info": {
   "codemirror_mode": {
    "name": "ipython",
    "version": 3
   },
   "file_extension": ".py",
   "mimetype": "text/x-python",
   "name": "python",
   "nbconvert_exporter": "python",
   "pygments_lexer": "ipython3",
   "version": "3.11.4"
  }
 },
 "nbformat": 4,
 "nbformat_minor": 5
}
