{
 "cells": [
  {
   "cell_type": "code",
   "execution_count": 1,
   "id": "48349e57-0583-4b1f-8d69-a18eb7e87a51",
   "metadata": {},
   "outputs": [],
   "source": [
    "import requests\n",
    "from bs4 import BeautifulSoup\n",
    "import pandas as pd"
   ]
  },
  {
   "cell_type": "code",
   "execution_count": 2,
   "id": "a9b242e9-a05d-4795-a480-9480bd110c2e",
   "metadata": {},
   "outputs": [],
   "source": []
  },
  {
   "cell_type": "code",
   "execution_count": null,
   "id": "2154b66a-1c00-4233-9c08-36a1d92065d4",
   "metadata": {},
   "outputs": [],
   "source": [
    "for i in range(0, 50001, 200):\n",
    "    url = f\"https://www.boxofficemojo.com/chart/top_opening_weekend/?ref_=bo_csw_ac&offset={i}\"\n",
    "\n",
    "    response = requests.get(url)\n",
    "\n",
    "    soup = BeautifulSoup(response.text, 'html.parser')\n",
    "    tables = soup.find_all('table')\n",
    "    table = tables[0]\n",
    "\n",
    "    rows = table.find_all('tr')\n",
    "\n",
    "    "
   ]
  }
 ],
 "metadata": {
  "kernelspec": {
   "display_name": "Python 3 (ipykernel)",
   "language": "python",
   "name": "python3"
  },
  "language_info": {
   "codemirror_mode": {
    "name": "ipython",
    "version": 3
   },
   "file_extension": ".py",
   "mimetype": "text/x-python",
   "name": "python",
   "nbconvert_exporter": "python",
   "pygments_lexer": "ipython3",
   "version": "3.11.4"
  }
 },
 "nbformat": 4,
 "nbformat_minor": 5
}
